{
 "cells": [
  {
   "cell_type": "code",
   "execution_count": 2,
   "metadata": {
    "collapsed": true
   },
   "outputs": [],
   "source": [
    "#import libraries needed\n",
    "import pandas as pd\n",
    "import numpy as np\n",
    "import keras\n",
    "from keras.models import Sequential\n",
    "from keras.layers import Dense\n",
    "from sklearn.model_selection import train_test_split\n",
    "from sklearn.metrics import mean_squared_error"
   ]
  },
  {
   "cell_type": "code",
   "execution_count": 3,
   "metadata": {},
   "outputs": [
    {
     "data": {
      "text/html": [
       "<div>\n",
       "<style scoped>\n",
       "    .dataframe tbody tr th:only-of-type {\n",
       "        vertical-align: middle;\n",
       "    }\n",
       "\n",
       "    .dataframe tbody tr th {\n",
       "        vertical-align: top;\n",
       "    }\n",
       "\n",
       "    .dataframe thead th {\n",
       "        text-align: right;\n",
       "    }\n",
       "</style>\n",
       "<table border=\"1\" class=\"dataframe\">\n",
       "  <thead>\n",
       "    <tr style=\"text-align: right;\">\n",
       "      <th></th>\n",
       "      <th>Cement</th>\n",
       "      <th>Blast Furnace Slag</th>\n",
       "      <th>Fly Ash</th>\n",
       "      <th>Water</th>\n",
       "      <th>Superplasticizer</th>\n",
       "      <th>Coarse Aggregate</th>\n",
       "      <th>Fine Aggregate</th>\n",
       "      <th>Age</th>\n",
       "    </tr>\n",
       "  </thead>\n",
       "  <tbody>\n",
       "    <tr>\n",
       "      <th>0</th>\n",
       "      <td>2.476712</td>\n",
       "      <td>-0.856472</td>\n",
       "      <td>-0.846733</td>\n",
       "      <td>-0.916319</td>\n",
       "      <td>-0.620147</td>\n",
       "      <td>0.862735</td>\n",
       "      <td>-1.217079</td>\n",
       "      <td>-0.279597</td>\n",
       "    </tr>\n",
       "    <tr>\n",
       "      <th>1</th>\n",
       "      <td>2.476712</td>\n",
       "      <td>-0.856472</td>\n",
       "      <td>-0.846733</td>\n",
       "      <td>-0.916319</td>\n",
       "      <td>-0.620147</td>\n",
       "      <td>1.055651</td>\n",
       "      <td>-1.217079</td>\n",
       "      <td>-0.279597</td>\n",
       "    </tr>\n",
       "    <tr>\n",
       "      <th>2</th>\n",
       "      <td>0.491187</td>\n",
       "      <td>0.795140</td>\n",
       "      <td>-0.846733</td>\n",
       "      <td>2.174405</td>\n",
       "      <td>-1.038638</td>\n",
       "      <td>-0.526262</td>\n",
       "      <td>-2.239829</td>\n",
       "      <td>3.551340</td>\n",
       "    </tr>\n",
       "    <tr>\n",
       "      <th>3</th>\n",
       "      <td>0.491187</td>\n",
       "      <td>0.795140</td>\n",
       "      <td>-0.846733</td>\n",
       "      <td>2.174405</td>\n",
       "      <td>-1.038638</td>\n",
       "      <td>-0.526262</td>\n",
       "      <td>-2.239829</td>\n",
       "      <td>5.055221</td>\n",
       "    </tr>\n",
       "    <tr>\n",
       "      <th>4</th>\n",
       "      <td>-0.790075</td>\n",
       "      <td>0.678079</td>\n",
       "      <td>-0.846733</td>\n",
       "      <td>0.488555</td>\n",
       "      <td>-1.038638</td>\n",
       "      <td>0.070492</td>\n",
       "      <td>0.647569</td>\n",
       "      <td>4.976069</td>\n",
       "    </tr>\n",
       "  </tbody>\n",
       "</table>\n",
       "</div>"
      ],
      "text/plain": [
       "     Cement  Blast Furnace Slag   Fly Ash     Water  Superplasticizer  \\\n",
       "0  2.476712           -0.856472 -0.846733 -0.916319         -0.620147   \n",
       "1  2.476712           -0.856472 -0.846733 -0.916319         -0.620147   \n",
       "2  0.491187            0.795140 -0.846733  2.174405         -1.038638   \n",
       "3  0.491187            0.795140 -0.846733  2.174405         -1.038638   \n",
       "4 -0.790075            0.678079 -0.846733  0.488555         -1.038638   \n",
       "\n",
       "   Coarse Aggregate  Fine Aggregate       Age  \n",
       "0          0.862735       -1.217079 -0.279597  \n",
       "1          1.055651       -1.217079 -0.279597  \n",
       "2         -0.526262       -2.239829  3.551340  \n",
       "3         -0.526262       -2.239829  5.055221  \n",
       "4          0.070492        0.647569  4.976069  "
      ]
     },
     "execution_count": 3,
     "metadata": {},
     "output_type": "execute_result"
    }
   ],
   "source": [
    "#download data\n",
    "concrete_data = pd.read_csv('https://s3-api.us-geo.objectstorage.softlayer.net/cf-courses-data/CognitiveClass/DL0101EN/labs/data/concrete_data.csv')\n",
    "\n",
    "#set concrete_data_columns for simplicity\n",
    "concrete_data_columns = concrete_data.columns\n",
    "\n",
    "#predictors are all columns except 'Strength'\n",
    "predictors = concrete_data[concrete_data_columns[concrete_data_columns != 'Strength']]\n",
    "\n",
    "#normalize perdictors!\n",
    "predictors = (predictors - predictors.mean()) / predictors.std()\n",
    "\n",
    "#target is the 'Strength' column\n",
    "target = concrete_data['Strength']\n",
    "\n",
    "#store the number of predictors for my network's input_shape (should be 8!)\n",
    "n_cols = predictors.shape[1]\n",
    "\n",
    "#for the new updated dataset we have 8 predictors rather than 7\n",
    "predictors.head()"
   ]
  },
  {
   "cell_type": "code",
   "execution_count": 4,
   "metadata": {
    "collapsed": true
   },
   "outputs": [],
   "source": [
    "def regression():\n",
    "    #building model with 1 hidden layer with 10 units and relu for activation function\n",
    "    model = Sequential()\n",
    "    model.add(Dense(10, activation = 'relu', input_shape = (n_cols, )))\n",
    "    model.add(Dense(10, activation = 'relu'))\n",
    "    model.add(Dense(10, activation = 'relu'))\n",
    "    model.add(Dense(1))\n",
    "    \n",
    "    #compile model with using adam optimizer and mean squared error loss function\n",
    "    model.compile(optimizer = 'adam', loss = 'mean_squared_error')\n",
    "    return model"
   ]
  },
  {
   "cell_type": "markdown",
   "metadata": {},
   "source": [
    "The model is ready for training. In the following lines I split the data randomly by using a different argument for train_test_split. I then calculate the mean squared error for each iteration and store it in MSE list."
   ]
  },
  {
   "cell_type": "code",
   "execution_count": 8,
   "metadata": {},
   "outputs": [
    {
     "name": "stdout",
     "output_type": "stream",
     "text": [
      "trained model #1 with MSE =  107.56352701591608\n",
      "trained model #2 with MSE =  143.4195414370879\n",
      "trained model #3 with MSE =  109.12804667430271\n",
      "trained model #4 with MSE =  143.97418287841123\n",
      "trained model #5 with MSE =  134.6407103185249\n",
      "trained model #6 with MSE =  139.1606195405877\n",
      "trained model #7 with MSE =  152.20061399218332\n",
      "trained model #8 with MSE =  91.43746177649265\n",
      "trained model #9 with MSE =  151.95139060250648\n",
      "trained model #10 with MSE =  135.4941412972062\n",
      "trained model #11 with MSE =  121.32136911712587\n",
      "trained model #12 with MSE =  124.7537354388398\n",
      "trained model #13 with MSE =  120.60448232293847\n",
      "trained model #14 with MSE =  124.71891757470138\n",
      "trained model #15 with MSE =  141.30997288588122\n",
      "trained model #16 with MSE =  106.6044617757528\n",
      "trained model #17 with MSE =  116.27684147682308\n",
      "trained model #18 with MSE =  127.94117208910775\n",
      "trained model #19 with MSE =  131.96939138219767\n",
      "trained model #20 with MSE =  111.15860093812377\n",
      "trained model #21 with MSE =  126.76525813840809\n",
      "trained model #22 with MSE =  130.47219639072338\n",
      "trained model #23 with MSE =  124.05987283181815\n",
      "trained model #24 with MSE =  122.26868985771505\n",
      "trained model #25 with MSE =  134.5526272531087\n",
      "trained model #26 with MSE =  107.92287610978784\n",
      "trained model #27 with MSE =  142.71477298508177\n",
      "trained model #28 with MSE =  123.17385862529156\n",
      "trained model #29 with MSE =  139.29806828908636\n",
      "trained model #30 with MSE =  132.86685437942924\n",
      "trained model #31 with MSE =  169.9955633461858\n",
      "trained model #32 with MSE =  125.38058928941764\n",
      "trained model #33 with MSE =  133.82214460408616\n",
      "trained model #34 with MSE =  126.76059926577778\n",
      "trained model #35 with MSE =  135.38845005908186\n",
      "trained model #36 with MSE =  115.09775221415167\n",
      "trained model #37 with MSE =  142.92650345265017\n",
      "trained model #38 with MSE =  142.097884531811\n",
      "trained model #39 with MSE =  136.29111088242766\n",
      "trained model #40 with MSE =  136.69054783500698\n",
      "trained model #41 with MSE =  132.9351650476576\n",
      "trained model #42 with MSE =  133.82317242695885\n",
      "trained model #43 with MSE =  98.95951760024413\n",
      "trained model #44 with MSE =  132.72984303005939\n",
      "trained model #45 with MSE =  123.54825138293923\n",
      "trained model #46 with MSE =  123.53183601983127\n",
      "trained model #47 with MSE =  131.72228215868552\n",
      "trained model #48 with MSE =  144.6836974663531\n",
      "trained model #49 with MSE =  117.80538219967924\n",
      "trained model #50 with MSE =  108.79254719682496\n"
     ]
    }
   ],
   "source": [
    "#list for storing the mean squared errors \n",
    "MSE = []\n",
    "\n",
    "for i in range(50):    \n",
    "    #random split of data, using i as an input to random state\n",
    "    X_train, X_test, y_train, y_test = train_test_split(predictors, target, test_size = 0.3, random_state = i)\n",
    "    \n",
    "    #fit the model using 50 epochs (use verbose=0 for silent mode...)\n",
    "    model = regression()\n",
    "    model.fit(X_train, y_train, epochs = 50, verbose = 0)\n",
    "    \n",
    "    #make predictions for the test set\n",
    "    yhat = model.predict(X_test)\n",
    "    \n",
    "    #calculate mean squared error and append it to the MSE list\n",
    "    mse = mean_squared_error(y_test, yhat)\n",
    "    MSE.append(mse)\n",
    "    \n",
    "    #inform user about\n",
    "    print('trained model #' + str(i+1) + ' with MSE = ', mse)\n",
    "    \n",
    "#convert the list to numpy array for using numpy easily\n",
    "MSE = np.array(MSE)"
   ]
  },
  {
   "cell_type": "code",
   "execution_count": 9,
   "metadata": {},
   "outputs": [
    {
     "name": "stdout",
     "output_type": "stream",
     "text": [
      "The mean of the mean squared errors is: 128.65414190809983\n",
      "The standard deviation of the mean squared errors is: 14.403805930660551\n"
     ]
    }
   ],
   "source": [
    "print('The mean of the mean squared errors is:', np.mean(MSE))\n",
    "print('The standard deviation of the mean squared errors is:', np.std(MSE) )"
   ]
  }
 ],
 "metadata": {
  "kernelspec": {
   "display_name": "Python 3",
   "language": "python",
   "name": "python3"
  },
  "language_info": {
   "codemirror_mode": {
    "name": "ipython",
    "version": 3
   },
   "file_extension": ".py",
   "mimetype": "text/x-python",
   "name": "python",
   "nbconvert_exporter": "python",
   "pygments_lexer": "ipython3",
   "version": "3.6.2"
  }
 },
 "nbformat": 4,
 "nbformat_minor": 4
}
